{
 "cells": [
  {
   "cell_type": "code",
   "execution_count": 26,
   "metadata": {},
   "outputs": [],
   "source": [
    "import pandas as pd\n",
    "from scipy.stats import ks_2samp\n"
   ]
  },
  {
   "cell_type": "code",
   "execution_count": 21,
   "metadata": {},
   "outputs": [],
   "source": [
    "training_file_path= \"artifact\\\\07_28_2023_23_55_38\\\\data_ingestion\\\\ingested\\\\train.csv\""
   ]
  },
  {
   "cell_type": "code",
   "execution_count": 22,
   "metadata": {},
   "outputs": [],
   "source": [
    "testing_file_path= 'artifact\\\\07_28_2023_23_55_38\\\\data_ingestion\\\\ingested\\\\test.csv'"
   ]
  },
  {
   "cell_type": "code",
   "execution_count": 23,
   "metadata": {},
   "outputs": [],
   "source": [
    "train_df= pd.read_csv(training_file_path)\n",
    "test_df= pd.read_csv(testing_file_path)"
   ]
  },
  {
   "cell_type": "code",
   "execution_count": 24,
   "metadata": {},
   "outputs": [
    {
     "data": {
      "text/plain": [
       "Index(['class', 'aa_000', 'ab_000', 'ac_000', 'ad_000', 'ae_000', 'af_000',\n",
       "       'ag_000', 'ag_001', 'ag_002',\n",
       "       ...\n",
       "       'ee_002', 'ee_003', 'ee_004', 'ee_005', 'ee_006', 'ee_007', 'ee_008',\n",
       "       'ee_009', 'ef_000', 'eg_000'],\n",
       "      dtype='object', length=171)"
      ]
     },
     "execution_count": 24,
     "metadata": {},
     "output_type": "execute_result"
    }
   ],
   "source": [
    "train_df.columns"
   ]
  },
  {
   "cell_type": "code",
   "execution_count": 25,
   "metadata": {},
   "outputs": [
    {
     "data": {
      "text/plain": [
       "Index(['class', 'aa_000', 'ab_000', 'ac_000', 'ad_000', 'ae_000', 'af_000',\n",
       "       'ag_000', 'ag_001', 'ag_002',\n",
       "       ...\n",
       "       'ee_002', 'ee_003', 'ee_004', 'ee_005', 'ee_006', 'ee_007', 'ee_008',\n",
       "       'ee_009', 'ef_000', 'eg_000'],\n",
       "      dtype='object', length=171)"
      ]
     },
     "execution_count": 25,
     "metadata": {},
     "output_type": "execute_result"
    }
   ],
   "source": [
    "test_df.columns"
   ]
  },
  {
   "cell_type": "code",
   "execution_count": 37,
   "metadata": {},
   "outputs": [],
   "source": [
    "def get_data_drift_report(base_df, current_df, threshold= 0.5):\n",
    "    report= {}\n",
    "    for column in base_df.columns:\n",
    "        b_df= base_df[column]\n",
    "        c_df= current_df[column]\n",
    "        is_same_dist= ks_2samp(b_df, c_df)\n",
    "        if threshold<=is_same_dist.pvalue:\n",
    "            is_found= False\n",
    "        else:   \n",
    "            is_found= True\n",
    "        report.update({\n",
    "        column: {\n",
    "        'p_value': float(is_same_dist.pvalue),\n",
    "        'drift_status': is_found}\n",
    "            })\n",
    "    return report"
   ]
  },
  {
   "cell_type": "code",
   "execution_count": 38,
   "metadata": {},
   "outputs": [
    {
     "data": {
      "text/plain": [
       "{'class': {'p_value': 1.0, 'drift_status': False},\n",
       " 'aa_000': {'p_value': 0.2839471070260873, 'drift_status': True},\n",
       " 'ab_000': {'p_value': 0.8390566237463858, 'drift_status': False},\n",
       " 'ac_000': {'p_value': 0.25293908047657, 'drift_status': True},\n",
       " 'ad_000': {'p_value': 0.3083152741639448, 'drift_status': True},\n",
       " 'ae_000': {'p_value': 1.0, 'drift_status': False},\n",
       " 'af_000': {'p_value': 1.0, 'drift_status': False},\n",
       " 'ag_000': {'p_value': 0.9994970486422927, 'drift_status': False},\n",
       " 'ag_001': {'p_value': 0.9999437548422836, 'drift_status': False},\n",
       " 'ag_002': {'p_value': 0.9999967649890598, 'drift_status': False},\n",
       " 'ag_003': {'p_value': 0.9997015835984276, 'drift_status': False},\n",
       " 'ag_004': {'p_value': 0.7507699628161292, 'drift_status': False},\n",
       " 'ag_005': {'p_value': 0.3463281731849206, 'drift_status': True},\n",
       " 'ag_006': {'p_value': 0.6035893912644353, 'drift_status': False},\n",
       " 'ag_007': {'p_value': 0.2746206480550112, 'drift_status': True},\n",
       " 'ag_008': {'p_value': 0.3836372698378495, 'drift_status': True},\n",
       " 'ag_009': {'p_value': 0.05875870205611189, 'drift_status': True},\n",
       " 'ah_000': {'p_value': 0.19006878405396754, 'drift_status': True},\n",
       " 'ai_000': {'p_value': 0.9766402800807117, 'drift_status': False},\n",
       " 'aj_000': {'p_value': 0.9928989046843253, 'drift_status': False},\n",
       " 'ak_000': {'p_value': 0.9999999999999961, 'drift_status': False},\n",
       " 'al_000': {'p_value': 0.5495955391884266, 'drift_status': False},\n",
       " 'am_0': {'p_value': 0.4624233741271885, 'drift_status': True},\n",
       " 'an_000': {'p_value': 0.175438726181548, 'drift_status': True},\n",
       " 'ao_000': {'p_value': 0.1579007075792893, 'drift_status': True},\n",
       " 'ap_000': {'p_value': 0.29288078759679215, 'drift_status': True},\n",
       " 'aq_000': {'p_value': 0.169597682922613, 'drift_status': True},\n",
       " 'ar_000': {'p_value': 1.0, 'drift_status': False},\n",
       " 'as_000': {'p_value': 1.0, 'drift_status': False},\n",
       " 'at_000': {'p_value': 0.9999550258232243, 'drift_status': False},\n",
       " 'au_000': {'p_value': 1.0, 'drift_status': False},\n",
       " 'av_000': {'p_value': 0.03893100562635132, 'drift_status': True},\n",
       " 'ax_000': {'p_value': 0.1350217966179118, 'drift_status': True},\n",
       " 'ay_000': {'p_value': 0.9999999896999445, 'drift_status': False},\n",
       " 'ay_001': {'p_value': 0.9999999842132592, 'drift_status': False},\n",
       " 'ay_002': {'p_value': 0.999999993396767, 'drift_status': False},\n",
       " 'ay_003': {'p_value': 0.9999999990400814, 'drift_status': False},\n",
       " 'ay_004': {'p_value': 0.9999999933959453, 'drift_status': False},\n",
       " 'ay_005': {'p_value': 0.1586048255622119, 'drift_status': True},\n",
       " 'ay_006': {'p_value': 0.39996810040655184, 'drift_status': True},\n",
       " 'ay_007': {'p_value': 0.31395548420888975, 'drift_status': True},\n",
       " 'ay_008': {'p_value': 0.43620240015668466, 'drift_status': True},\n",
       " 'ay_009': {'p_value': 0.9722733839167336, 'drift_status': False},\n",
       " 'az_000': {'p_value': 0.9159391102782319, 'drift_status': False},\n",
       " 'az_001': {'p_value': 0.5140983247051396, 'drift_status': False},\n",
       " 'az_002': {'p_value': 0.33378103183107266, 'drift_status': True},\n",
       " 'az_003': {'p_value': 0.3952809189505119, 'drift_status': True},\n",
       " 'az_004': {'p_value': 0.26334181632657216, 'drift_status': True},\n",
       " 'az_005': {'p_value': 0.37073637037918583, 'drift_status': True},\n",
       " 'az_006': {'p_value': 0.3480417286495868, 'drift_status': True},\n",
       " 'az_007': {'p_value': 0.26480889447898937, 'drift_status': True},\n",
       " 'az_008': {'p_value': 0.5585821129506838, 'drift_status': False},\n",
       " 'az_009': {'p_value': 0.9313890754672005, 'drift_status': False},\n",
       " 'ba_000': {'p_value': 0.3955991407636976, 'drift_status': True},\n",
       " 'ba_001': {'p_value': 0.10921747928148651, 'drift_status': True},\n",
       " 'ba_002': {'p_value': 0.18592122780899656, 'drift_status': True},\n",
       " 'ba_003': {'p_value': 0.24787764830851977, 'drift_status': True},\n",
       " 'ba_004': {'p_value': 0.20124355073412958, 'drift_status': True},\n",
       " 'ba_005': {'p_value': 0.18588717476176098, 'drift_status': True},\n",
       " 'ba_006': {'p_value': 0.32094625913437613, 'drift_status': True},\n",
       " 'ba_007': {'p_value': 0.269405953678983, 'drift_status': True},\n",
       " 'ba_008': {'p_value': 0.6734270553118356, 'drift_status': False},\n",
       " 'ba_009': {'p_value': 0.5268178609928285, 'drift_status': False},\n",
       " 'bb_000': {'p_value': 0.2035572611235631, 'drift_status': True},\n",
       " 'bc_000': {'p_value': 0.9999243552955991, 'drift_status': False},\n",
       " 'bd_000': {'p_value': 0.5304771346372674, 'drift_status': False},\n",
       " 'be_000': {'p_value': 0.33290834047721796, 'drift_status': True},\n",
       " 'bf_000': {'p_value': 0.09351473936092913, 'drift_status': True},\n",
       " 'bg_000': {'p_value': 0.19887037252410156, 'drift_status': True},\n",
       " 'bh_000': {'p_value': 0.14897396733682866, 'drift_status': True},\n",
       " 'bi_000': {'p_value': 0.2870861744133226, 'drift_status': True},\n",
       " 'bj_000': {'p_value': 0.1165342378086095, 'drift_status': True},\n",
       " 'bk_000': {'p_value': 0.060067534454619875, 'drift_status': True},\n",
       " 'bl_000': {'p_value': 0.47562032163376367, 'drift_status': True},\n",
       " 'bm_000': {'p_value': 0.5531259346297881, 'drift_status': False},\n",
       " 'bn_000': {'p_value': 0.5652908843443356, 'drift_status': False},\n",
       " 'bo_000': {'p_value': 0.9562965038462632, 'drift_status': False},\n",
       " 'bp_000': {'p_value': 0.9982212722973496, 'drift_status': False},\n",
       " 'bq_000': {'p_value': 0.9985653080457452, 'drift_status': False},\n",
       " 'br_000': {'p_value': 0.9999999654499412, 'drift_status': False},\n",
       " 'bs_000': {'p_value': 0.19587417838252563, 'drift_status': True},\n",
       " 'bt_000': {'p_value': 0.24514600305606427, 'drift_status': True},\n",
       " 'bu_000': {'p_value': 0.18172994533311693, 'drift_status': True},\n",
       " 'bv_000': {'p_value': 0.18172994533311693, 'drift_status': True},\n",
       " 'bx_000': {'p_value': 0.1696020527156329, 'drift_status': True},\n",
       " 'by_000': {'p_value': 0.14884890031111453, 'drift_status': True},\n",
       " 'bz_000': {'p_value': 0.28064686359670765, 'drift_status': True},\n",
       " 'ca_000': {'p_value': 0.04493486499396093, 'drift_status': True},\n",
       " 'cb_000': {'p_value': 0.0684299059664143, 'drift_status': True},\n",
       " 'cc_000': {'p_value': 0.15985999464602996, 'drift_status': True},\n",
       " 'cd_000': {'p_value': 1.0, 'drift_status': False},\n",
       " 'ce_000': {'p_value': 0.041958236117890735, 'drift_status': True},\n",
       " 'cf_000': {'p_value': 0.6238174720810095, 'drift_status': False},\n",
       " 'cg_000': {'p_value': 0.23488188052195635, 'drift_status': True},\n",
       " 'ch_000': {'p_value': 0.658289695725451, 'drift_status': False},\n",
       " 'ci_000': {'p_value': 0.34664579817647323, 'drift_status': True},\n",
       " 'cj_000': {'p_value': 0.5575583583098316, 'drift_status': False},\n",
       " 'ck_000': {'p_value': 0.27540254231487793, 'drift_status': True},\n",
       " 'cl_000': {'p_value': 0.9999094098631365, 'drift_status': False},\n",
       " 'cm_000': {'p_value': 0.4870831200022193, 'drift_status': True},\n",
       " 'cn_000': {'p_value': 0.9999998890660315, 'drift_status': False},\n",
       " 'cn_001': {'p_value': 0.9999999887677368, 'drift_status': False},\n",
       " 'cn_002': {'p_value': 0.955077198388941, 'drift_status': False},\n",
       " 'cn_003': {'p_value': 0.5508612865521443, 'drift_status': False},\n",
       " 'cn_004': {'p_value': 0.4099891991181912, 'drift_status': True},\n",
       " 'cn_005': {'p_value': 0.5006338476103572, 'drift_status': False},\n",
       " 'cn_006': {'p_value': 0.41639199016167827, 'drift_status': True},\n",
       " 'cn_007': {'p_value': 0.3769424497612692, 'drift_status': True},\n",
       " 'cn_008': {'p_value': 0.5772904235368295, 'drift_status': False},\n",
       " 'cn_009': {'p_value': 0.21696488092775112, 'drift_status': True},\n",
       " 'co_000': {'p_value': 0.48161807491299746, 'drift_status': True},\n",
       " 'cp_000': {'p_value': 0.48801562934453757, 'drift_status': True},\n",
       " 'cq_000': {'p_value': 0.18172994533311693, 'drift_status': True},\n",
       " 'cr_000': {'p_value': 0.8238635998525926, 'drift_status': False},\n",
       " 'cs_000': {'p_value': 0.5692915309740482, 'drift_status': False},\n",
       " 'cs_001': {'p_value': 0.3709173181187737, 'drift_status': True},\n",
       " 'cs_002': {'p_value': 0.41935746944884666, 'drift_status': True},\n",
       " 'cs_003': {'p_value': 0.33992918680239814, 'drift_status': True},\n",
       " 'cs_004': {'p_value': 0.3335904790242986, 'drift_status': True},\n",
       " 'cs_005': {'p_value': 0.21282965218771976, 'drift_status': True},\n",
       " 'cs_006': {'p_value': 0.7315408318500791, 'drift_status': False},\n",
       " 'cs_007': {'p_value': 0.8505787577189716, 'drift_status': False},\n",
       " 'cs_008': {'p_value': 0.43053420683312116, 'drift_status': True},\n",
       " 'cs_009': {'p_value': 0.9999063798642002, 'drift_status': False},\n",
       " 'ct_000': {'p_value': 0.2019256925965226, 'drift_status': True},\n",
       " 'cu_000': {'p_value': 0.11219486437599069, 'drift_status': True},\n",
       " 'cv_000': {'p_value': 0.11080312278962368, 'drift_status': True},\n",
       " 'cx_000': {'p_value': 0.2486008955278709, 'drift_status': True},\n",
       " 'cy_000': {'p_value': 0.2761868323932535, 'drift_status': True},\n",
       " 'cz_000': {'p_value': 0.23560694290912254, 'drift_status': True},\n",
       " 'da_000': {'p_value': 0.15665732770384044, 'drift_status': True},\n",
       " 'db_000': {'p_value': 0.17407292324702595, 'drift_status': True},\n",
       " 'dc_000': {'p_value': 0.2484448407350346, 'drift_status': True},\n",
       " 'dd_000': {'p_value': 0.3172517493400898, 'drift_status': True},\n",
       " 'de_000': {'p_value': 0.5419301515548147, 'drift_status': False},\n",
       " 'df_000': {'p_value': 0.999998505218789, 'drift_status': False},\n",
       " 'dg_000': {'p_value': 0.9999782893326307, 'drift_status': False},\n",
       " 'dh_000': {'p_value': 0.9971921358145241, 'drift_status': False},\n",
       " 'di_000': {'p_value': 0.9984491563659402, 'drift_status': False},\n",
       " 'dj_000': {'p_value': 1.0, 'drift_status': False},\n",
       " 'dk_000': {'p_value': 1.0, 'drift_status': False},\n",
       " 'dl_000': {'p_value': 1.0, 'drift_status': False},\n",
       " 'dm_000': {'p_value': 1.0, 'drift_status': False},\n",
       " 'dn_000': {'p_value': 0.09628290544228524, 'drift_status': True},\n",
       " 'do_000': {'p_value': 0.05300744653857359, 'drift_status': True},\n",
       " 'dp_000': {'p_value': 0.07297992946225529, 'drift_status': True},\n",
       " 'dq_000': {'p_value': 0.7795468218760194, 'drift_status': False},\n",
       " 'dr_000': {'p_value': 0.8039505452218454, 'drift_status': False},\n",
       " 'ds_000': {'p_value': 0.1675266760568812, 'drift_status': True},\n",
       " 'dt_000': {'p_value': 0.10003783552240997, 'drift_status': True},\n",
       " 'du_000': {'p_value': 0.6943771332605737, 'drift_status': False},\n",
       " 'dv_000': {'p_value': 0.563340332381895, 'drift_status': False},\n",
       " 'dx_000': {'p_value': 0.9871837184965513, 'drift_status': False},\n",
       " 'dy_000': {'p_value': 0.8488589941279981, 'drift_status': False},\n",
       " 'dz_000': {'p_value': 1.0, 'drift_status': False},\n",
       " 'ea_000': {'p_value': 0.9999994361067538, 'drift_status': False},\n",
       " 'eb_000': {'p_value': 0.241848243035933, 'drift_status': True},\n",
       " 'ec_00': {'p_value': 0.4930969116789926, 'drift_status': True},\n",
       " 'ed_000': {'p_value': 0.1757986310302052, 'drift_status': True},\n",
       " 'ee_000': {'p_value': 0.40693358605658725, 'drift_status': True},\n",
       " 'ee_001': {'p_value': 0.27247419930450045, 'drift_status': True},\n",
       " 'ee_002': {'p_value': 0.27819198483888385, 'drift_status': True},\n",
       " 'ee_003': {'p_value': 0.19898486283626515, 'drift_status': True},\n",
       " 'ee_004': {'p_value': 0.33677529642018433, 'drift_status': True},\n",
       " 'ee_005': {'p_value': 0.3539205314996795, 'drift_status': True},\n",
       " 'ee_006': {'p_value': 0.3533555443128884, 'drift_status': True},\n",
       " 'ee_007': {'p_value': 0.8157826695046168, 'drift_status': False},\n",
       " 'ee_008': {'p_value': 0.3636018436575066, 'drift_status': True},\n",
       " 'ee_009': {'p_value': 0.39386993167522133, 'drift_status': True},\n",
       " 'ef_000': {'p_value': 1.0, 'drift_status': False},\n",
       " 'eg_000': {'p_value': 1.0, 'drift_status': False}}"
      ]
     },
     "execution_count": 38,
     "metadata": {},
     "output_type": "execute_result"
    }
   ],
   "source": [
    "drift_report= get_data_drift_report(train_df, test_df)\n",
    "drift_report"
   ]
  },
  {
   "cell_type": "code",
   "execution_count": 39,
   "metadata": {},
   "outputs": [],
   "source": [
    "from sensor.utils.main_utils import write_yaml_file\n",
    "import os, sys"
   ]
  },
  {
   "cell_type": "code",
   "execution_count": 40,
   "metadata": {},
   "outputs": [],
   "source": [
    "write_yaml_file(file_path= os.path.join(os.getcwd(), 'report.yaml'), content= drift_report, replace= True)"
   ]
  },
  {
   "cell_type": "code",
   "execution_count": null,
   "metadata": {},
   "outputs": [],
   "source": []
  },
  {
   "cell_type": "code",
   "execution_count": null,
   "metadata": {},
   "outputs": [],
   "source": []
  }
 ],
 "metadata": {
  "kernelspec": {
   "display_name": "Python 3",
   "language": "python",
   "name": "python3"
  },
  "language_info": {
   "codemirror_mode": {
    "name": "ipython",
    "version": 3
   },
   "file_extension": ".py",
   "mimetype": "text/x-python",
   "name": "python",
   "nbconvert_exporter": "python",
   "pygments_lexer": "ipython3",
   "version": "3.8.0"
  },
  "orig_nbformat": 4
 },
 "nbformat": 4,
 "nbformat_minor": 2
}
